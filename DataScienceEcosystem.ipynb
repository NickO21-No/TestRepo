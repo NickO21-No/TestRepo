{
 "cells": [
  {
   "cell_type": "markdown",
   "id": "1b085e2e-e1fc-4216-906c-7baeaabfa7bf",
   "metadata": {},
   "source": [
    "# Data Science Tools and Ecosystem"
   ]
  },
  {
   "cell_type": "markdown",
   "id": "0cca4f15-24c8-469b-b445-98d8b374ae18",
   "metadata": {},
   "source": [
    "*En este cuaderno, se resumen las herramientas y ecosistemas de ciencia de datos.*"
   ]
  },
  {
   "cell_type": "markdown",
   "id": "9c92f0e0-756b-4de9-9f28-57a469e889b4",
   "metadata": {},
   "source": [
    "### Algunos de los lenguajes populares que utilizan los científicos de datos son:\n",
    "*Lenguajes en ciencia de datos:*\n",
    "- Python\n",
    "- RStudio\n",
    "- SQL"
   ]
  },
  {
   "cell_type": "markdown",
   "id": "865f640b-fc75-4f47-b313-564f57561a87",
   "metadata": {},
   "source": [
    "### Bibliotecas comúnmente utilizadas por los científicos de datos incluyen:\n",
    "*lista ordenada de Biblioteca:*\n",
    "- Caret\n",
    "- data.table\n",
    "- tidyverse"
   ]
  },
  {
   "cell_type": "markdown",
   "id": "b2e0a0bf-317c-434a-ad6a-d55e5a604627",
   "metadata": {},
   "source": [
    "### Herramientas de Ciencia de Datos\n",
    "- Jupyter Notebook\n",
    "- Apache Sparks\n",
    "- RapidMiner"
   ]
  },
  {
   "cell_type": "markdown",
   "id": "ff79c707-a6de-4776-87b4-e8d55d185394",
   "metadata": {},
   "source": [
    "### A continuación, se presentan algunos ejemplos de evaluación de expresiones aritméticas en Python\n",
    "- Esta es una expresión aritmética simple para multiplicar y luego sumar enteros"
   ]
  },
  {
   "cell_type": "code",
   "execution_count": 15,
   "id": "a8204fd9-9260-41e1-b688-09906c198e51",
   "metadata": {
    "scrolled": true
   },
   "outputs": [
    {
     "data": {
      "text/plain": [
       "17"
      ]
     },
     "execution_count": 15,
     "metadata": {},
     "output_type": "execute_result"
    }
   ],
   "source": [
    "(3*4)+5"
   ]
  },
  {
   "cell_type": "markdown",
   "id": "c0c1ca13-9014-4a4f-bcf0-dfc0ecc260db",
   "metadata": {},
   "source": [
    "### Esto convertirá 200 minutos a horas dividiendo por 60"
   ]
  },
  {
   "cell_type": "code",
   "execution_count": 18,
   "id": "41340f10-7474-4871-ac8b-bd032417c123",
   "metadata": {},
   "outputs": [
    {
     "data": {
      "text/plain": [
       "3.3333333333333335"
      ]
     },
     "execution_count": 18,
     "metadata": {},
     "output_type": "execute_result"
    }
   ],
   "source": [
    "200 / 60"
   ]
  },
  {
   "cell_type": "markdown",
   "id": "e47d9593-be43-44f0-8eed-fccf4758d994",
   "metadata": {},
   "source": [
    "*Objetivos:*\n",
    " -  Lista desordenada\n",
    "*Listar lenguajes populares para Ciencia de Datos*\n",
    "    1.\t*Tipos de datos y estructuras*\n",
    "\t-   Python: list, tuple, dict, set, DataFrame (Pandas)\n",
    "\t-\tR: vector, matrix, data.frame, list\n",
    "\t-\tSQL: VARCHAR, INTEGER, FLOAT, BOOLEAN, DATE\n",
    "\t3.\t*Manipulación de datos*\n",
    "\t-\tPython: pandas (df.head(), df.groupby(), df.merge())\n",
    "\t-\tR: dplyr (filter(), mutate(), summarise())\n",
    "\t-\tSQL: SELECT, JOIN, GROUP BY, ORDER BY\n",
    "\t4. *Visualización de datos*\n",
    "\t-\tPython: matplotlib, seaborn, plotly\n",
    "\t-\tR: ggplot2, plotly, lattice\n",
    "\t-\tSQL: No tiene visualización integrada, pero se usa con herramientas como Power BI o Tableau\n",
    "\t5.\t*Aprendizaje automático* (Machine Learning)\n",
    "\t-\tPython: scikit-learn, TensorFlow, PyTorch\n",
    "\t-\tR: caret, mlr3, randomForest\n",
    "\t-\tSQL: No es específico para ML, pero se pueden usar extensiones como BigQuery ML o SQL Server ML Services\n",
    "\t6.\t*Gestión de bases de datos*\n",
    "\t-\tPython: sqlite3, SQLAlchemy, pymysql\n",
    "\t-\tR: DBI, RSQLite, RODBC\n",
    "\t-\tSQL: MySQL, PostgreSQL, SQL Server"
   ]
  },
  {
   "cell_type": "markdown",
   "id": "1c767dc0-5bb0-433a-9812-025c18366478",
   "metadata": {},
   "source": [
    "## Autor\n",
    "- *Nicolas Osvaldo Ramirez Nuño*"
   ]
  }
 ],
 "metadata": {
  "kernelspec": {
   "display_name": "Python [conda env:base] *",
   "language": "python",
   "name": "conda-base-py"
  },
  "language_info": {
   "codemirror_mode": {
    "name": "ipython",
    "version": 3
   },
   "file_extension": ".py",
   "mimetype": "text/x-python",
   "name": "python",
   "nbconvert_exporter": "python",
   "pygments_lexer": "ipython3",
   "version": "3.12.7"
  }
 },
 "nbformat": 4,
 "nbformat_minor": 5
}
